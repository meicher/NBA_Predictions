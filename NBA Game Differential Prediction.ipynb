{
 "cells": [
  {
   "cell_type": "code",
   "execution_count": 1,
   "metadata": {
    "collapsed": true
   },
   "outputs": [],
   "source": [
    "import pandas as pd\n",
    "import numpy as np\n",
    "import seaborn as sns\n",
    "import matplotlib.pyplot as plt\n",
    "import lightgbm as lgb\n",
    "from sklearn.model_selection import train_test_split\n",
    "from sklearn.metrics import mean_absolute_error\n",
    "from sklearn.preprocessing import StandardScaler\n",
    "from sklearn.preprocessing import Normalizer\n",
    "from sklearn.neural_network import MLPRegressor\n",
    "\n",
    "import warnings\n",
    "warnings.simplefilter('ignore')"
   ]
  },
  {
   "cell_type": "markdown",
   "metadata": {},
   "source": [
    "O-Rtg (need to sum pts,fga,orb,to,fta):\n",
    "\n",
    "Possessions: \n",
    "field goals attempted - offensive rebounds + turnovers + (0.4 x free throws attempted) = total number of possessions for the season to calculate total team possessions.\n",
    "\n",
    "O-Rtg = Points / Possessions\n",
    "\n",
    "D-Rtg (same vars but opp.):\n",
    "D-Rtg = Opp Points / Opp.Poss"
   ]
  },
  {
   "cell_type": "markdown",
   "metadata": {},
   "source": [
    "#### Following for dataset creation, don't run again"
   ]
  },
  {
   "cell_type": "code",
   "execution_count": null,
   "metadata": {
    "collapsed": true
   },
   "outputs": [],
   "source": [
    "train = pd.read_csv('2014-2018_NBA_Games_RA.csv')"
   ]
  },
  {
   "cell_type": "code",
   "execution_count": 79,
   "metadata": {
    "collapsed": true
   },
   "outputs": [],
   "source": [
    "def rollingMetrics(df):\n",
    "    \n",
    "    #create avgs\n",
    "    for column in df.iloc[:,12:]:\n",
    "        newC = train[column].rolling(10).mean().shift(1)\n",
    "        colname = 'mean_' + train[column].name\n",
    "        train[colname] = newC\n",
    "    \n",
    "    #create sums\n",
    "    for column in train.iloc[:,12:]:\n",
    "        newC = train[column].rolling(10).sum().shift(1)\n",
    "        colname = 'sum_' + train[column].name\n",
    "        train[colname] = newC\n",
    "    \n",
    "    #Drop win sum and sum_mean columns, and game specific columns used for aggregations\n",
    "    train.drop(['sum_Win','sum_mean_Diff','sum_mean_Win','sum_mean_PTS','sum_mean_FGM','sum_mean_FGA','sum_mean_3PM',\n",
    "                'sum_mean_3PA','sum_mean_FTM','sum_mean_FTA','sum_mean_ORB','sum_mean_TRB','sum_mean_Assists','sum_mean_Steals',\n",
    "                'sum_mean_Blocks','sum_mean_Turnovers','sum_mean_TotalFouls','FGM','FGA','3PM','3PA','FTM','FTA','ORB','TRB',\n",
    "                'Assists','Blocks','Steals','Turnovers','TotalFouls',\n",
    "                'sum_mean_Opp.ORB','sum_mean_Opp.Turnovers','sum_mean_Opp.FTA','sum_mean_Opp.FGA','sum_mean_Opp.PTS',\n",
    "                'mean_Opp.ORB','mean_Opp.Turnovers','mean_Opp.FTA','mean_Opp.FGA',\n",
    "                'mean_Opp.PTS','Opp.ORB','Opp.Turnovers','Opp.FTA','Opp.FGA','Opp.PTS'],axis=1,inplace=True)\n",
    "    \n",
    "    #drop rows used for first x games seasons -- necessary for first predictions (these are set to RA_ROW = NA)\n",
    "    train.dropna(inplace=True)\n",
    "    \n",
    "    #drop RA_ROW\n",
    "    train.drop(['RA_ROW'],inplace=True,axis=1)\n",
    "    \n",
    "    return train"
   ]
  },
  {
   "cell_type": "code",
   "execution_count": 80,
   "metadata": {
    "collapsed": false
   },
   "outputs": [],
   "source": [
    "avg_sum = rollingMetrics(train)"
   ]
  },
  {
   "cell_type": "code",
   "execution_count": 81,
   "metadata": {
    "collapsed": false
   },
   "outputs": [],
   "source": [
    "#join opponent data after aggregation of metrics\n",
    "oppFrame = avg_sum.copy()\n",
    "oppFrame.drop(['Date','Team','Opponent','Month','Year','Game','Home','B2B','Diff','Win','PTS','Opp.B2B'],axis=1,inplace=True)"
   ]
  },
  {
   "cell_type": "code",
   "execution_count": 82,
   "metadata": {
    "collapsed": false
   },
   "outputs": [],
   "source": [
    "#bring in original data frame to join on tm ID and Opp Id\n",
    "teamFrame = avg_sum.copy()\n",
    "combined = teamFrame.merge(oppFrame,left_on='Tm.Id',right_on='Opp.Id',suffixes=(\"\",\"_Opp\"))\n",
    "\n",
    "#Drop columns used for matching\n",
    "combined.drop(['Tm.Id_Opp','Opp.Id_Opp'],axis=1,inplace=True)\n",
    "\n",
    "del oppFrame,teamFrame,avg_sum"
   ]
  },
  {
   "cell_type": "code",
   "execution_count": 83,
   "metadata": {
    "collapsed": false
   },
   "outputs": [],
   "source": [
    "# create variables\n",
    "def createvars(df):\n",
    "    \n",
    "        #Create % columns\n",
    "        \n",
    "    df['FG%'] = df['sum_FGM']/df['sum_FGA']\n",
    "    df['3P%'] = df['sum_3PM']/df['sum_3PA']\n",
    "    df['FT%'] = df['sum_FTM']/df['sum_FTA']\n",
    "\n",
    "    df['FG%_Opp'] = df['sum_FGM_Opp']/df['sum_FGA_Opp']\n",
    "    df['3P%_Opp'] = df['sum_3PM_Opp']/df['sum_3PA_Opp']\n",
    "    df['FT%_Opp'] = df['sum_FTM_Opp']/df['sum_FTA_Opp']\n",
    "\n",
    "       #Create Assist % and Ast/TO ratio\n",
    "    \n",
    "    df['AstTO'] = df['mean_Assists']/df['mean_Turnovers']\n",
    "    df['Ast%'] = df['mean_Assists']/df['mean_FGM']\n",
    "    \n",
    "    df['AstTO_Opp'] = df['mean_Assists_Opp']/df['mean_Turnovers_Opp']\n",
    "    df['Ast%_Opp'] = df['mean_Assists_Opp']/df['mean_FGM_Opp']    \n",
    "    \n",
    "    \n",
    "        #Create offensive rating for team / opponent\n",
    "        \n",
    "    tm_pos = df['sum_FGA'] - df['sum_ORB'] + df['sum_Turnovers'] + (0.4*df['sum_FTA']) \n",
    "    df['OFF_Rtng'] = (df['sum_PTS']/tm_pos)*100\n",
    "    \n",
    "    opp_pos = df['sum_FGA_Opp'] - df['sum_ORB_Opp'] + df['sum_Turnovers_Opp'] + (0.4*df['sum_FTA_Opp'])\n",
    "    df['OFF_Rtng_Opp'] = (df['sum_PTS_Opp']/opp_pos)*100\n",
    "    \n",
    "        #Create defensive rating for team / opponent\n",
    "        \n",
    "    tm_pos = df['sum_Opp.FGA'] - df['sum_Opp.ORB'] + df['sum_Opp.Turnovers'] + (0.4*df['sum_Opp.FTA']) \n",
    "    df['DEF_Rtng'] = (df['sum_Opp.PTS']/tm_pos)*100\n",
    "    \n",
    "    opp_pos = df['sum_Opp.FGA_Opp'] - df['sum_Opp.ORB_Opp'] + df['sum_Opp.Turnovers_Opp'] + (0.4*df['sum_Opp.FTA_Opp'])\n",
    "    df['DEF_Rtng_Opp'] = (df['sum_Opp.PTS_Opp']/opp_pos)*100    \n",
    "    \n",
    "        #Create net rating for team/opponent\n",
    "    \n",
    "    df['NET_Rtng'] = df['OFF_Rtng'] - df['DEF_Rtng']\n",
    "    df['NET_Rtng_Opp'] = df['OFF_Rtng_Opp'] - df['DEF_Rtng_Opp']\n",
    "    \n",
    "        #drop extra columns - sum columns\n",
    "    cols = [c for c in df.columns if c[:3] == 'sum']\n",
    "    df.drop(cols,axis=1,inplace=True)\n",
    "    \n",
    "        #drop extra columns - some traditional metrics not needed anymore\n",
    "    \n",
    "    return df"
   ]
  },
  {
   "cell_type": "code",
   "execution_count": 84,
   "metadata": {
    "collapsed": false
   },
   "outputs": [],
   "source": [
    "combined = createvars(combined)\n",
    "#combined.to_csv('final.csv',index=False)"
   ]
  },
  {
   "cell_type": "code",
   "execution_count": 85,
   "metadata": {
    "collapsed": false
   },
   "outputs": [
    {
     "data": {
      "text/plain": [
       "Index(['Date', 'Team', 'Tm.Id', 'Opponent', 'Opp.Id', 'Month', 'Year', 'Game',\n",
       "       'Home', 'B2B', 'Opp.B2B', 'Diff', 'Win', 'PTS', 'mean_Diff', 'mean_Win',\n",
       "       'mean_PTS', 'mean_FGM', 'mean_FGA', 'mean_3PM', 'mean_3PA', 'mean_FTM',\n",
       "       'mean_FTA', 'mean_ORB', 'mean_TRB', 'mean_Assists', 'mean_Steals',\n",
       "       'mean_Blocks', 'mean_Turnovers', 'mean_TotalFouls', 'mean_Diff_Opp',\n",
       "       'mean_Win_Opp', 'mean_PTS_Opp', 'mean_FGM_Opp', 'mean_FGA_Opp',\n",
       "       'mean_3PM_Opp', 'mean_3PA_Opp', 'mean_FTM_Opp', 'mean_FTA_Opp',\n",
       "       'mean_ORB_Opp', 'mean_TRB_Opp', 'mean_Assists_Opp', 'mean_Steals_Opp',\n",
       "       'mean_Blocks_Opp', 'mean_Turnovers_Opp', 'mean_TotalFouls_Opp', 'FG%',\n",
       "       '3P%', 'FT%', 'FG%_Opp', '3P%_Opp', 'FT%_Opp', 'AstTO', 'Ast%',\n",
       "       'AstTO_Opp', 'Ast%_Opp', 'OFF_Rtng', 'OFF_Rtng_Opp', 'DEF_Rtng',\n",
       "       'DEF_Rtng_Opp', 'NET_Rtng', 'NET_Rtng_Opp'],\n",
       "      dtype='object')"
      ]
     },
     "execution_count": 85,
     "metadata": {},
     "output_type": "execute_result"
    }
   ],
   "source": [
    "combined.columns\n",
    "\n",
    "#append line data by Tm.Id from nba_odds_2014-2018"
   ]
  },
  {
   "cell_type": "markdown",
   "metadata": {},
   "source": [
    "### Modelling NBA Pt Differential"
   ]
  },
  {
   "cell_type": "code",
   "execution_count": 2,
   "metadata": {
    "collapsed": false
   },
   "outputs": [],
   "source": [
    "#append historical lines data to this file\n",
    "alldata = pd.read_csv('final.csv')\n",
    "target = alldata['Diff']\n",
    "target_classifier = alldata['Win']\n",
    "\n",
    "#Identify columns to keep and train on\n",
    "colsToTrain = ['Home', 'B2B','Line','Opp.Line','Opp.B2B','mean_Diff', 'mean_Win','mean_Diff_Opp','mean_FGA','mean_FGA_Opp','mean_PTS','mean_PTS_Opp',\n",
    "       'mean_Win_Opp', 'mean_FTA', 'mean_FTA_Opp','NET_Rtng', 'NET_Rtng_Opp','AstTO','Ast%','AstTO_Opp','Ast%_Opp']\n",
    "\n",
    "train = alldata[colsToTrain]"
   ]
  },
  {
   "cell_type": "markdown",
   "metadata": {},
   "source": [
    "#### LGB Model"
   ]
  },
  {
   "cell_type": "code",
   "execution_count": 47,
   "metadata": {
    "collapsed": false
   },
   "outputs": [],
   "source": [
    "#%%time\n",
    "\n",
    "#LGB model\n",
    "#model = lgb.LGBMRegressor(num_leaves=300,num_trees=4000,objective='regression',metric='mae',learning_rate=0.05,random_state=42)\n",
    "\n",
    "#split data\n",
    "#X_train,X_test,y_train,y_test = train_test_split(train,target,test_size=0.33,random_state=42)\n",
    "\n",
    "#Scaling data has no affect on tree based models since they can have varying magnitudes.\n",
    "\n",
    "#predict and store predictions\n",
    "#model.fit(X_train, y_train)\n",
    "#lgb_pred = model.predict(X_test)\n",
    "#mean_absolute_error(y_test,lgb_pred)"
   ]
  },
  {
   "cell_type": "markdown",
   "metadata": {},
   "source": [
    "#### NN Model"
   ]
  },
  {
   "cell_type": "code",
   "execution_count": 49,
   "metadata": {
    "collapsed": false
   },
   "outputs": [],
   "source": [
    "#%%time\n",
    "\n",
    "#NN model\n",
    "#model_NN = MLPRegressor(hidden_layer_sizes=(10,10,10,10,10),random_state=42)\n",
    "\n",
    "#split data\n",
    "#X_train,X_test,y_train,y_test = train_test_split(train,target,test_size=0.33,random_state=42)\n",
    "#Line = X_test['Line']\n",
    "#OppLine = X_test['Opp.Line']\n",
    "\n",
    "#normalization\n",
    "#norm = Normalizer()\n",
    "#X_train = pd.DataFrame(norm.fit_transform(X_train),columns=X_train.columns)\n",
    "#X_test = pd.DataFrame(norm.fit_transform(X_test),columns=X_test.columns)\n",
    "\n",
    "\n",
    "#predict and store predictions\n",
    "#model_NN.fit(X_train, y_train)\n",
    "#nn_pred = model_NN.predict(X_test)"
   ]
  },
  {
   "cell_type": "code",
   "execution_count": 50,
   "metadata": {
    "collapsed": false
   },
   "outputs": [],
   "source": [
    "#mean_absolute_error(y_test,nn_pred)\n",
    "\n",
    "#ensemble prediction - average of lgb model and neural network model - PRODUCES LESS ACCURATE PREDICTION\n",
    "#preds = pd.DataFrame({'lgb':lgb_pred,'nn':nn_pred})\n",
    "#preds['ensemble'] = preds.mean(axis=1)\n",
    "#mean_absolute_error(y_test,preds['ensemble'])"
   ]
  },
  {
   "cell_type": "code",
   "execution_count": 29,
   "metadata": {
    "collapsed": false
   },
   "outputs": [
    {
     "data": {
      "image/png": "[encoded data removed]",
      "text/plain": [
       "<matplotlib.figure.Figure at 0x1432fb00>"
      ]
     },
     "metadata": {},
     "output_type": "display_data"
    }
   ],
   "source": [
    "#produce example of how much would be lost or won to betting\n",
    "#positive line is underdog, negative is favorite. negative diff is a loss by that amount and vice versa\n",
    "#=IF(E2>0,E2/100*F2,ABS(F2/E2*100))  E2 is odds, F2 is amount (can set amount to 100)\n",
    "\n",
    "predictions = pd.DataFrame({'diff':y_test,'predicted':nn_pred,'line':Line,'opp.line':OppLine})\n",
    "predictions['Success'] = predictions['diff']*predictions['predicted']>0\n",
    "predictions['outcomeline1'] = [i/100*1000 if i > 0 else abs(1000/i*100) for i in predictions['line']]\n",
    "predictions['outcomeline2'] = [i/100*1000 if i > 0 else abs(1000/i*100) for i in predictions['opp.line']]\n",
    "predictions['predicted'] = predictions['predicted'].apply(lambda number : round(number * 2) / 2)\n",
    "Net=[]\n",
    "for index,row in predictions.iterrows():\n",
    "    if (row['diff']<0) & (row['predicted']<0) & (row['opp.line']<0):\n",
    "        Net.append(row['outcomeline2'])\n",
    "    elif (row['diff']<0) & (row['predicted']<0) & (row['line']<0):\n",
    "            Net.append(row['outcomeline1'])\n",
    "    elif (row['diff']>0) & (row['predicted']>0) & (row['line']<0):\n",
    "        Net.append(row['outcomeline1'])\n",
    "    elif (row['diff']>0) & (row['predicted']>0) & (row['opp.line']<0):\n",
    "        Net.append(row['outcomeline2'])\n",
    "    else:\n",
    "        Net.append(-1000)\n",
    "predictions['Net'] = Net\n",
    "#is this possible without previous point spread? we can check win vs lost.\n",
    "# - 1000 for each row of False, OutcomeWin for each true row... also could slice and dice by win margins, may find betting strat\n",
    "\n",
    "#ALL PREDICTIONS\n",
    "#never predicts underdog -- #$168,000 in losses"
   ]
  },
  {
   "cell_type": "markdown",
   "metadata": {},
   "source": [
    "### Predicting on Live Data"
   ]
  },
  {
   "cell_type": "code",
   "execution_count": 57,
   "metadata": {
    "collapsed": true
   },
   "outputs": [],
   "source": [
    "def predLive():\n",
    "    test = pd.read_csv(\"final_testset.csv\")\n",
    "    \n",
    "    for index, row in test.iterrows():\n",
    "        \n",
    "        #exclude data if game already predicted\n",
    "        if pd.Series(row['PredDiff']).isnull().all():\n",
    "            \n",
    "            #predict with train columns from model training\n",
    "            row_train = row[colsToTrain]\n",
    "            live = pd.Series(model.predict(row_train))\n",
    "            \n",
    "            #convert predicted result to nearest half integer \n",
    "            live = live.apply(lambda number : round(number * 2) / 2)\n",
    "            \n",
    "            #write prediction to row\n",
    "            test.at[index,'PredDiff'] = live\n",
    "        else:\n",
    "            print(\"No rows to predict\")\n",
    "    \n",
    "    #overwrite testset w/ predicted differential\n",
    "    test.to_csv(\"final_testset.csv\",index=False)\n",
    "        \n",
    "    #optional: use a webscraping library to extract training features automatically.\n",
    "        #pull in all team data for traditional/advanced, store in frames, with headers\n",
    "        #then just mapping exercise"
   ]
  },
  {
   "cell_type": "code",
   "execution_count": 58,
   "metadata": {
    "collapsed": false,
    "scrolled": true
   },
   "outputs": [
    {
     "name": "stdout",
     "output_type": "stream",
     "text": [
      "No rows to predict\n"
     ]
    }
   ],
   "source": [
    "predLive()"
   ]
  },
  {
   "cell_type": "markdown",
   "metadata": {},
   "source": [
    "### Classification Model"
   ]
  },
  {
   "cell_type": "code",
   "execution_count": 20,
   "metadata": {
    "collapsed": true
   },
   "outputs": [],
   "source": [
    "from sklearn.neural_network import MLPClassifier"
   ]
  },
  {
   "cell_type": "code",
   "execution_count": 21,
   "metadata": {
    "collapsed": false
   },
   "outputs": [
    {
     "name": "stdout",
     "output_type": "stream",
     "text": [
      "Wall time: 719 ms\n"
     ]
    }
   ],
   "source": [
    "%%time\n",
    "\n",
    "#NN model\n",
    "model_NN = MLPClassifier(hidden_layer_sizes=(10,10,10,10,10,10),random_state=42)\n",
    "\n",
    "#split data\n",
    "X_train,X_test,y_train,y_test = train_test_split(train,target_classifier,test_size=0.33,random_state=42)\n",
    "Line = X_test['Line']\n",
    "OppLine = X_test['Opp.Line']\n",
    "\n",
    "#normalization\n",
    "norm = Normalizer()\n",
    "X_train = pd.DataFrame(norm.fit_transform(X_train),columns=X_train.columns)\n",
    "X_test = pd.DataFrame(norm.fit_transform(X_test),columns=X_test.columns)\n",
    "\n",
    "\n",
    "#predict and store predictions\n",
    "model_NN.fit(X_train, y_train)\n",
    "nn_pred = model_NN.predict(X_test)\n",
    "nn_proba = model_NN.predict_proba(X_test)"
   ]
  },
  {
   "cell_type": "code",
   "execution_count": 48,
   "metadata": {
    "collapsed": false
   },
   "outputs": [
    {
     "name": "stdout",
     "output_type": "stream",
     "text": [
      "8 19\n"
     ]
    }
   ],
   "source": [
    "print(model_NN.n_layers_,model_NN.n_iter_)"
   ]
  },
  {
   "cell_type": "code",
   "execution_count": 22,
   "metadata": {
    "collapsed": false
   },
   "outputs": [
    {
     "data": {
      "text/plain": [
       "0.678546224417784"
      ]
     },
     "execution_count": 22,
     "metadata": {},
     "output_type": "execute_result"
    }
   ],
   "source": [
    "#accuracy score\n",
    "model_NN.score(X_test,y_test)"
   ]
  },
  {
   "cell_type": "code",
   "execution_count": 30,
   "metadata": {
    "collapsed": false
   },
   "outputs": [],
   "source": [
    "predictions['PredProba'] = nn_proba[:,1]\n",
    "predictions['PredProba.opp'] = nn_proba[:,0]"
   ]
  },
  {
   "cell_type": "code",
   "execution_count": 38,
   "metadata": {
    "collapsed": false
   },
   "outputs": [],
   "source": [
    "predictions['EV_1'] = predictions['PredProba']*predictions['outcomeline1']\n",
    "predictions['EV_2'] = predictions['PredProba.opp']*predictions['outcomeline2']\n",
    "predictions['BestEV'] = predictions[['EV_1','EV_2']].max(axis=1)\n",
    "predictions['makeBet'] = predictions['BestEV'] >1000"
   ]
  },
  {
   "cell_type": "code",
   "execution_count": 42,
   "metadata": {
    "collapsed": false
   },
   "outputs": [
    {
     "data": {
      "text/plain": [
       "0.16866619618913198"
      ]
     },
     "execution_count": 42,
     "metadata": {},
     "output_type": "execute_result"
    }
   ],
   "source": [
    "sum(predictions['makeBet'])/len(predictions)"
   ]
  },
  {
   "cell_type": "code",
   "execution_count": 45,
   "metadata": {
    "collapsed": false
   },
   "outputs": [],
   "source": [
    "predictions.to_csv('bets.csv')"
   ]
  },
  {
   "cell_type": "markdown",
   "metadata": {},
   "source": [
    "### Scraping NBA.com for Input Data"
   ]
  },
  {
   "cell_type": "code",
   "execution_count": 7,
   "metadata": {
    "collapsed": false
   },
   "outputs": [],
   "source": [
    "from selenium import webdriver"
   ]
  },
  {
   "cell_type": "code",
   "execution_count": 10,
   "metadata": {
    "collapsed": true
   },
   "outputs": [],
   "source": [
    "trad_url = \"https://stats.nba.com/teams/traditional/?sort=W_PCT&dir=-1&Season=2018-19&SeasonType=Regular%20Season&LastNGames=10\"\n",
    "adv_url = \"https://stats.nba.com/teams/advanced/?sort=W&dir=-1&Season=2018-19&SeasonType=Regular%20Season&LastNGames=10\""
   ]
  },
  {
   "cell_type": "code",
   "execution_count": 126,
   "metadata": {
    "collapsed": false
   },
   "outputs": [],
   "source": [
    "def getData(url):\n",
    "    \n",
    "    #get data w/ selenium webdriver, update path as necessary\n",
    "    browser = webdriver.Chrome(executable_path='C:/Users/me1035/chromedriver.exe')\n",
    "    browser.get(url)\n",
    "    table = browser.find_element_by_class_name('nba-stat-table__overflow').text.split('\\n')\n",
    "    stats = []\n",
    "    teams = []\n",
    "    \n",
    "    #advanced stats has astRatio with a newline character, which causes column issues -- correction for that\n",
    "    if url == \"https://stats.nba.com/teams/advanced/?sort=W&dir=-1&Season=2018-19&SeasonType=Regular%20Season&LastNGames=10\":\n",
    "        table[0] = table[0] + table[1]\n",
    "        table.pop(1)\n",
    "        table.pop(1)\n",
    "    \n",
    "    #iterate through lines and create lists to create dataframe\n",
    "    for line_id, lines in enumerate(table):\n",
    "        if line_id == 0:\n",
    "            column_names = lines.split(' ')[1:]\n",
    "        else:\n",
    "            if line_id % 3 == 2:\n",
    "                teams.append(lines)\n",
    "            if line_id % 3 == 0:\n",
    "                stats.append([i for i in lines.split(' ')])\n",
    "            \n",
    "    return pd.DataFrame(stats,columns=column_names,index=[teams])"
   ]
  },
  {
   "cell_type": "code",
   "execution_count": 128,
   "metadata": {
    "collapsed": true
   },
   "outputs": [],
   "source": [
    "#next step is to chain out to http://www.espn.com/nba/lines/_/date to get today's games + betting lines"
   ]
  },
  {
   "cell_type": "code",
   "execution_count": null,
   "metadata": {
    "collapsed": true
   },
   "outputs": [],
   "source": [
    "#map team to team"
   ]
  }
 ],
 "metadata": {
  "kernelspec": {
   "display_name": "Python 3",
   "language": "python",
   "name": "python3"
  },
  "language_info": {
   "codemirror_mode": {
    "name": "ipython",
    "version": 3
   },
   "file_extension": ".py",
   "mimetype": "text/x-python",
   "name": "python",
   "nbconvert_exporter": "python",
   "pygments_lexer": "ipython3",
   "version": "3.6.7"
  }
 },
 "nbformat": 4,
 "nbformat_minor": 2
}
