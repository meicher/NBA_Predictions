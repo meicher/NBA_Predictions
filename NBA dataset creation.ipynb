{
 "cells": [
  {
   "cell_type": "code",
   "execution_count": null,
   "metadata": {
    "collapsed": true
   },
   "outputs": [],
   "source": [
    "import pandas as pd\n",
    "import numpy as np\n",
    "import seaborn as sns\n",
    "import matplotlib.pyplot as plt\n",
    "import lightgbm as lgb\n",
    "from sklearn.model_selection import train_test_split\n",
    "from sklearn.metrics import mean_absolute_error\n",
    "from sklearn.preprocessing import StandardScaler\n",
    "from sklearn.preprocessing import Normalizer\n",
    "from sklearn.neural_network import MLPRegressor\n",
    "from sklearn.linear_model import LogisticRegression\n",
    "from selenium import webdriver\n",
    "from datetime import date    \n",
    "today = date.today().isoformat()\n",
    "\n",
    "import warnings\n",
    "warnings.simplefilter('ignore')"
   ]
  },
  {
   "cell_type": "markdown",
   "metadata": {},
   "source": [
    "O-Rtg (need to sum pts,fga,orb,to,fta):\n",
    "\n",
    "Possessions: field goals attempted - offensive rebounds + turnovers + (0.4 x free throws attempted) = total number of possessions for the season to calculate total team possessions.\n",
    "\n",
    "O-Rtg = Points / Possessions\n",
    "\n",
    "D-Rtg (same vars but opp.): D-Rtg = Opp Points / Opp.Poss"
   ]
  },
  {
   "cell_type": "code",
   "execution_count": null,
   "metadata": {
    "collapsed": true
   },
   "outputs": [],
   "source": [
    "train = pd.read_csv('2014-2018_NBA_Games_RA.csv')"
   ]
  },
  {
   "cell_type": "code",
   "execution_count": null,
   "metadata": {
    "collapsed": true
   },
   "outputs": [],
   "source": [
    "def rollingMetrics(df):\n",
    "    \n",
    "    #create avgs\n",
    "    for column in df.iloc[:,12:]:\n",
    "        newC = train[column].rolling(10).mean().shift(1)\n",
    "        colname = 'mean_' + train[column].name\n",
    "        train[colname] = newC\n",
    "    \n",
    "    #create sums\n",
    "    for column in train.iloc[:,12:]:\n",
    "        newC = train[column].rolling(10).sum().shift(1)\n",
    "        colname = 'sum_' + train[column].name\n",
    "        train[colname] = newC\n",
    "    \n",
    "    #Drop win sum and sum_mean columns, and game specific columns used for aggregations\n",
    "    train.drop(['sum_Win','sum_mean_Diff','sum_mean_Win','sum_mean_PTS','sum_mean_FGM','sum_mean_FGA','sum_mean_3PM',\n",
    "                'sum_mean_3PA','sum_mean_FTM','sum_mean_FTA','sum_mean_ORB','sum_mean_TRB','sum_mean_Assists','sum_mean_Steals',\n",
    "                'sum_mean_Blocks','sum_mean_Turnovers','sum_mean_TotalFouls','FGM','FGA','3PM','3PA','FTM','FTA','ORB','TRB',\n",
    "                'Assists','Blocks','Steals','Turnovers','TotalFouls',\n",
    "                'sum_mean_Opp.ORB','sum_mean_Opp.Turnovers','sum_mean_Opp.FTA','sum_mean_Opp.FGA','sum_mean_Opp.PTS',\n",
    "                'mean_Opp.ORB','mean_Opp.Turnovers','mean_Opp.FTA','mean_Opp.FGA',\n",
    "                'mean_Opp.PTS','Opp.ORB','Opp.Turnovers','Opp.FTA','Opp.FGA','Opp.PTS'],axis=1,inplace=True)\n",
    "    \n",
    "    #drop rows used for first x games seasons -- necessary for first predictions (these are set to RA_ROW = NA)\n",
    "    train.dropna(inplace=True)\n",
    "    \n",
    "    #drop RA_ROW\n",
    "    train.drop(['RA_ROW'],inplace=True,axis=1)\n",
    "    \n",
    "    return train"
   ]
  },
  {
   "cell_type": "code",
   "execution_count": null,
   "metadata": {
    "collapsed": true
   },
   "outputs": [],
   "source": [
    "avg_sum = rollingMetrics(train)"
   ]
  },
  {
   "cell_type": "code",
   "execution_count": null,
   "metadata": {
    "collapsed": true
   },
   "outputs": [],
   "source": [
    "#join opponent data after aggregation of metrics\n",
    "oppFrame = avg_sum.copy()\n",
    "oppFrame.drop(['Date','Team','Opponent','Month','Year','Game','Home','B2B','Diff','Win','PTS','Opp.B2B'],axis=1,inplace=True)"
   ]
  },
  {
   "cell_type": "code",
   "execution_count": null,
   "metadata": {
    "collapsed": true
   },
   "outputs": [],
   "source": [
    "#bring in original data frame to join on tm ID and Opp Id\n",
    "teamFrame = avg_sum.copy()\n",
    "combined = teamFrame.merge(oppFrame,left_on='Tm.Id',right_on='Opp.Id',suffixes=(\"\",\"_Opp\"))\n",
    "\n",
    "#Drop columns used for matching\n",
    "combined.drop(['Tm.Id_Opp','Opp.Id_Opp'],axis=1,inplace=True)\n",
    "\n",
    "del oppFrame,teamFrame,avg_sum"
   ]
  },
  {
   "cell_type": "code",
   "execution_count": null,
   "metadata": {
    "collapsed": true
   },
   "outputs": [],
   "source": [
    "# create variables\n",
    "def createvars(df):\n",
    "    \n",
    "        #Create % columns\n",
    "        \n",
    "    df['FG%'] = df['sum_FGM']/df['sum_FGA']\n",
    "    df['3P%'] = df['sum_3PM']/df['sum_3PA']\n",
    "    df['FT%'] = df['sum_FTM']/df['sum_FTA']\n",
    "\n",
    "    df['FG%_Opp'] = df['sum_FGM_Opp']/df['sum_FGA_Opp']\n",
    "    df['3P%_Opp'] = df['sum_3PM_Opp']/df['sum_3PA_Opp']\n",
    "    df['FT%_Opp'] = df['sum_FTM_Opp']/df['sum_FTA_Opp']\n",
    "\n",
    "       #Create Assist % and Ast/TO ratio\n",
    "    \n",
    "    df['AstTO'] = df['mean_Assists']/df['mean_Turnovers']\n",
    "    df['Ast%'] = df['mean_Assists']/df['mean_FGM']\n",
    "    \n",
    "    df['AstTO_Opp'] = df['mean_Assists_Opp']/df['mean_Turnovers_Opp']\n",
    "    df['Ast%_Opp'] = df['mean_Assists_Opp']/df['mean_FGM_Opp']    \n",
    "    \n",
    "    \n",
    "        #Create offensive rating for team / opponent\n",
    "        \n",
    "    tm_pos = df['sum_FGA'] - df['sum_ORB'] + df['sum_Turnovers'] + (0.4*df['sum_FTA']) \n",
    "    df['OFF_Rtng'] = (df['sum_PTS']/tm_pos)*100\n",
    "    \n",
    "    opp_pos = df['sum_FGA_Opp'] - df['sum_ORB_Opp'] + df['sum_Turnovers_Opp'] + (0.4*df['sum_FTA_Opp'])\n",
    "    df['OFF_Rtng_Opp'] = (df['sum_PTS_Opp']/opp_pos)*100\n",
    "    \n",
    "        #Create defensive rating for team / opponent\n",
    "        \n",
    "    tm_pos = df['sum_Opp.FGA'] - df['sum_Opp.ORB'] + df['sum_Opp.Turnovers'] + (0.4*df['sum_Opp.FTA']) \n",
    "    df['DEF_Rtng'] = (df['sum_Opp.PTS']/tm_pos)*100\n",
    "    \n",
    "    opp_pos = df['sum_Opp.FGA_Opp'] - df['sum_Opp.ORB_Opp'] + df['sum_Opp.Turnovers_Opp'] + (0.4*df['sum_Opp.FTA_Opp'])\n",
    "    df['DEF_Rtng_Opp'] = (df['sum_Opp.PTS_Opp']/opp_pos)*100    \n",
    "    \n",
    "        #Create net rating for team/opponent\n",
    "    \n",
    "    df['NET_Rtng'] = df['OFF_Rtng'] - df['DEF_Rtng']\n",
    "    df['NET_Rtng_Opp'] = df['OFF_Rtng_Opp'] - df['DEF_Rtng_Opp']\n",
    "    \n",
    "        #drop extra columns - sum columns\n",
    "    cols = [c for c in df.columns if c[:3] == 'sum']\n",
    "    df.drop(cols,axis=1,inplace=True)\n",
    "    \n",
    "        #drop extra columns - some traditional metrics not needed anymore\n",
    "    \n",
    "    return df"
   ]
  },
  {
   "cell_type": "code",
   "execution_count": null,
   "metadata": {
    "collapsed": true
   },
   "outputs": [],
   "source": [
    "combined = createvars(combined)\n",
    "#combined.to_csv('final.csv',index=False)"
   ]
  }
 ],
 "metadata": {
  "kernelspec": {
   "display_name": "Python 3",
   "language": "python",
   "name": "python3"
  },
  "language_info": {
   "codemirror_mode": {
    "name": "ipython",
    "version": 3
   },
   "file_extension": ".py",
   "mimetype": "text/x-python",
   "name": "python",
   "nbconvert_exporter": "python",
   "pygments_lexer": "ipython3",
   "version": "3.6.7"
  }
 },
 "nbformat": 4,
 "nbformat_minor": 2
}
